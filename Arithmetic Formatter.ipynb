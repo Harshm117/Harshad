{
 "cells": [
  {
   "cell_type": "code",
   "execution_count": 1,
   "id": "7c765c4b",
   "metadata": {},
   "outputs": [
    {
     "name": "stdout",
     "output_type": "stream",
     "text": [
      "  235      123      678      987\n",
      "+  52    -  45    + 910    - 321\n",
      "-----    -----    -----    -----\n",
      "  235      123      678      987\n",
      "+  52    -  45    + 910    - 321\n",
      "-----    -----    -----    -----\n",
      "  287       78     1588      666\n"
     ]
    }
   ],
   "source": [
    "def arithmetic_arranger(problems, show_answers=False):\n",
    "    if len(problems) > 5:\n",
    "        return \"Error: Too many problems.\"\n",
    "\n",
    "    arranged_problems = \"\"\n",
    "    first_line = \"\"\n",
    "    second_line = \"\"\n",
    "    dash_line = \"\"\n",
    "    answer_line = \"\"\n",
    "\n",
    "    for problem in problems:\n",
    "        num1, operator, num2 = problem.split()\n",
    "        \n",
    "        if operator not in [\"+\", \"-\"]:\n",
    "            return \"Error: Operator must be '+' or '-'.\"\n",
    "        \n",
    "        if not (num1.isdigit() and num2.isdigit()):\n",
    "            return \"Error: Numbers must only contain digits.\"\n",
    "\n",
    "        max_width = max(len(num1), len(num2)) + 2\n",
    "        first_line += num1.rjust(max_width) + \"    \"\n",
    "        second_line += operator + num2.rjust(max_width - 1) + \"    \"\n",
    "        dash_line += \"-\" * max_width + \"    \"\n",
    "        \n",
    "        if show_answers:\n",
    "            if operator == \"+\":\n",
    "                answer = str(int(num1) + int(num2))\n",
    "            else:\n",
    "                answer = str(int(num1) - int(num2))\n",
    "            answer_line += answer.rjust(max_width) + \"    \"\n",
    "    \n",
    "    arranged_problems += first_line.rstrip() + \"\\n\" + second_line.rstrip() + \"\\n\" + dash_line.rstrip()\n",
    "    \n",
    "    if show_answers:\n",
    "        arranged_problems += \"\\n\" + answer_line.rstrip()\n",
    "\n",
    "    return arranged_problems\n",
    "\n",
    "# Example usage:\n",
    "problems = [\"235 + 52\", \"123 - 45\", \"678 + 910\", \"987 - 321\"]\n",
    "print(arithmetic_arranger(problems))\n",
    "print(arithmetic_arranger(problems, show_answers=True))\n"
   ]
  },
  {
   "cell_type": "code",
   "execution_count": null,
   "id": "7e63850e",
   "metadata": {},
   "outputs": [],
   "source": []
  }
 ],
 "metadata": {
  "kernelspec": {
   "display_name": "Python 3 (ipykernel)",
   "language": "python",
   "name": "python3"
  },
  "language_info": {
   "codemirror_mode": {
    "name": "ipython",
    "version": 3
   },
   "file_extension": ".py",
   "mimetype": "text/x-python",
   "name": "python",
   "nbconvert_exporter": "python",
   "pygments_lexer": "ipython3",
   "version": "3.10.9"
  }
 },
 "nbformat": 4,
 "nbformat_minor": 5
}
